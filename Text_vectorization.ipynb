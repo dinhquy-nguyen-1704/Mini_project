{
  "nbformat": 4,
  "nbformat_minor": 0,
  "metadata": {
    "colab": {
      "provenance": [],
      "authorship_tag": "ABX9TyP1zg7XWfUafUrQxfHpM5QJ",
      "include_colab_link": true
    },
    "kernelspec": {
      "name": "python3",
      "display_name": "Python 3"
    },
    "language_info": {
      "name": "python"
    }
  },
  "cells": [
    {
      "cell_type": "markdown",
      "metadata": {
        "id": "view-in-github",
        "colab_type": "text"
      },
      "source": [
        "<a href=\"https://colab.research.google.com/github/dinhquy-nguyen-1704/Mini_project/blob/main/Text_vectorization.ipynb\" target=\"_parent\"><img src=\"https://colab.research.google.com/assets/colab-badge.svg\" alt=\"Open In Colab\"/></a>"
      ]
    },
    {
      "cell_type": "code",
      "execution_count": 1,
      "metadata": {
        "id": "quYo5Ehg264I"
      },
      "outputs": [],
      "source": [
        "import string "
      ]
    },
    {
      "cell_type": "code",
      "source": [
        "remove_chr = \"\\t\" + string.punctuation\n",
        "\n",
        "def text_normalize(text):\n",
        "  text = text.lower()\n",
        "  text = text.strip()\n",
        "  text = text.replace(\"\\n\", \" \")\n",
        "  for char in remove_chr:\n",
        "    text = text.replace(char, \"\")\n",
        "\n",
        "  return text"
      ],
      "metadata": {
        "id": "-O1SpBVk3Rzn"
      },
      "execution_count": 5,
      "outputs": []
    },
    {
      "cell_type": "code",
      "source": [
        "text = \" Hôm nay tôi buồn. Tôi không biết phải làm gì tiếp theo   \"\n",
        "print(text_normalize(text))"
      ],
      "metadata": {
        "colab": {
          "base_uri": "https://localhost:8080/"
        },
        "id": "pFVjvwTT5A7w",
        "outputId": "be72cee5-f139-4ca5-fa06-7b878cf20223"
      },
      "execution_count": 6,
      "outputs": [
        {
          "output_type": "stream",
          "name": "stdout",
          "text": [
            "hôm nay tôi buồn tôi không biết phải làm gì tiếp theo\n"
          ]
        }
      ]
    },
    {
      "cell_type": "code",
      "source": [
        "def create_dictionary(corpus):\n",
        "  dictionary = []\n",
        "  for paragraph in corpus:\n",
        "    paragraph = text_normalize(paragraph)\n",
        "    tokens = paragraph.split()\n",
        "    for token in tokens:\n",
        "      if token not in dictionary:\n",
        "        dictionary.append(token)\n",
        "\n",
        "    return dictionary"
      ],
      "metadata": {
        "id": "zscyntH35hoZ"
      },
      "execution_count": 7,
      "outputs": []
    },
    {
      "cell_type": "code",
      "source": [
        "def vectorize(text, dictionary, unknow_token_id):\n",
        "  text = text_normalize(text)\n",
        "  tokens = text.split()\n",
        "  vector = [dictionary.index(token) if token in dictionary else unknow_token_id for token in tokens]\n",
        "\n",
        "  return vector"
      ],
      "metadata": {
        "id": "cl5U1b-I6ygg"
      },
      "execution_count": 8,
      "outputs": []
    },
    {
      "cell_type": "code",
      "source": [
        "dictionary = []\n",
        "text = 'thư viện'\n",
        "unknown_token_id = len(dictionary)\n",
        "vectorize(text, dictionary, unknown_token_id) "
      ],
      "metadata": {
        "colab": {
          "base_uri": "https://localhost:8080/"
        },
        "id": "CMoero6J7-AP",
        "outputId": "164478a1-926d-41ad-f6df-59b521d5d1e7"
      },
      "execution_count": 9,
      "outputs": [
        {
          "output_type": "execute_result",
          "data": {
            "text/plain": [
              "[0, 0]"
            ]
          },
          "metadata": {},
          "execution_count": 9
        }
      ]
    },
    {
      "cell_type": "code",
      "source": [
        "paragraph = 'Hello World. This is a text representation ( vectorization ) example.'\n",
        "corpus = [ paragraph ]\n",
        "dictionary = create_dictionary(corpus)\n",
        "text = 'Hello World. My name is AI.'\n",
        "unknown_token_id = len(dictionary)\n",
        "vectorize(text, dictionary, unknown_token_id)"
      ],
      "metadata": {
        "colab": {
          "base_uri": "https://localhost:8080/"
        },
        "id": "ZJ6p_-Vu8T5l",
        "outputId": "a8673d03-e275-4e84-c90a-5f26ae4cec45"
      },
      "execution_count": 10,
      "outputs": [
        {
          "output_type": "execute_result",
          "data": {
            "text/plain": [
              "[0, 1, 9, 9, 3, 9]"
            ]
          },
          "metadata": {},
          "execution_count": 10
        }
      ]
    }
  ]
}